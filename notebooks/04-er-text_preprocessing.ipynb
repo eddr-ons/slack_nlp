{
 "cells": [
  {
   "cell_type": "code",
   "execution_count": 1,
   "metadata": {},
   "outputs": [],
   "source": [
    "import sys\n",
    "import importlib\n",
    "import re\n",
    "import pandas as pd\n",
    "\n",
    "from nltk import word_tokenize, pos_tag\n",
    "\n",
    "\n",
    "src_dir = \"../src/\"\n",
    "sys.path.append(src_dir)\n"
   ]
  },
  {
   "cell_type": "code",
   "execution_count": 3,
   "metadata": {},
   "outputs": [
    {
     "name": "stderr",
     "output_type": "stream",
     "text": [
      "/home/edd/anaconda3/lib/python3.6/site-packages/IPython/core/interactiveshell.py:2728: DtypeWarning: Columns (3,6,13,15,17,30) have mixed types. Specify dtype option on import or set low_memory=False.\n",
      "  interactivity=interactivity, compiler=compiler, result=result)\n"
     ]
    }
   ],
   "source": [
    "df = pd.read_csv(\"../data/interim/slack_data.csv\", index_col = 0)"
   ]
  },
  {
   "cell_type": "markdown",
   "metadata": {},
   "source": [
    "## part of speach tagging\n"
   ]
  },
  {
   "cell_type": "code",
   "execution_count": 5,
   "metadata": {},
   "outputs": [
    {
     "data": {
      "text/plain": [
       "0     <https://www.civilservicejobs.service.gov.uk/c...\n",
       "1                             I just like the job title\n",
       "0     Headfirst Bristol are looking for an iOS (Swif...\n",
       "1         BURRRRSTAAALLLLL, Bristol \\o/, Bristol!!??!?!\n",
       "0     lots of <#C1CU6L33N|jobs> at Potato again: <ht...\n",
       "1                                      No data sorcerer\n",
       "2                                                   Sad\n",
       "0     Mid-weight designer based in Bristol\\nJunior d...\n",
       "0     <https://twitter.com/sleep_official/status/999...\n",
       "0     <https://twitter.com/MeadowDrone/status/895207...\n",
       "1       lmk if they ever need a freelancer :sunglasses:\n",
       "2                                            sure thing\n",
       "0       my company currently looking for the following:\n",
       "1     - Application Developer\\n\\n- Lead Mobile Consu...\n",
       "2                           i dont know what these are.\n",
       "3                  <http://www.commontime.com/careers/>\n",
       "4                               some fings wot i can do\n",
       "5                well, anyone can be a digital marketer\n",
       "6                    you dont wanna come up here though\n",
       "7     Are you looking for another job already? <@U0A...\n",
       "8                                                hah no\n",
       "9                          I quite like self-employment\n",
       "10                             I would've been suprised\n",
       "11                 Unless you've run out of work aready\n",
       "12                                           not  today\n",
       "0     OTOH my neighbour works project managing a bre...\n",
       "1     she and her colleagues have weirdly little pre...\n",
       "2                                            so fuck it\n",
       "3                                               :smile:\n",
       "4                                                  yeah\n",
       "                            ...                        \n",
       "6                                                     ?\n",
       "7                           and even the variable name?\n",
       "8            UPPER_CASE is standard for stuff like that\n",
       "9             but more widely used for global constants\n",
       "10    i thought UPPER_CASE was for class variables /...\n",
       "11                                                   ah\n",
       "12                                                   ye\n",
       "13                                             :smiley:\n",
       "14                       yeah, how about class members?\n",
       "15                                    and for the keys?\n",
       "16    like in other languages there is the UPPERCASE...\n",
       "17                                        if I remember\n",
       "18    class constants are probably UPPER_CASE\\n\\n```...\n",
       "19    I expect for an enum-like you can do your own ...\n",
       "20                                    haha, ok - thanks\n",
       "0                                          :open_mouth:\n",
       "1                                      ? :simple_smile:\n",
       "2          was just having a conversation with colleuge\n",
       "3                                   *Slack &gt; Hipchat\n",
       "4                                                    Ah\n",
       "5     More pygame hacks, <@U0A21THJQ>: <https://www....\n",
       "6     and I mean \"hacks\". Lazy code going on there. ...\n",
       "7                     p sure he's racing his battery...\n",
       "8                                                  haha\n",
       "9                                                thanks\n",
       "10    full code: <https://github.com/Max00355/SpaceI...\n",
       "11    I'll github my little thing from an afternoon ...\n",
       "12    just used some basics off the back of the flap...\n",
       "13    I've probably overshared this already but: <ht...\n",
       "14    <http://us2.campaign-archive.com/?u=e2e180baf8...\n",
       "Name: text, Length: 105812, dtype: object"
      ]
     },
     "execution_count": 5,
     "metadata": {},
     "output_type": "execute_result"
    }
   ],
   "source": [
    "df.text\n"
   ]
  }
 ],
 "metadata": {
  "kernelspec": {
   "display_name": "slack-nlp-Xp963HYr",
   "language": "python",
   "name": "slack-nlp-xp963hyr"
  },
  "language_info": {
   "codemirror_mode": {
    "name": "ipython",
    "version": 3
   },
   "file_extension": ".py",
   "mimetype": "text/x-python",
   "name": "python",
   "nbconvert_exporter": "python",
   "pygments_lexer": "ipython3",
   "version": "3.6.4"
  }
 },
 "nbformat": 4,
 "nbformat_minor": 2
}
